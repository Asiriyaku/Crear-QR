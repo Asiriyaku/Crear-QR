{
  "nbformat": 4,
  "nbformat_minor": 0,
  "metadata": {
    "colab": {
      "provenance": []
    },
    "kernelspec": {
      "name": "python3",
      "display_name": "Python 3"
    },
    "language_info": {
      "name": "python"
    }
  },
  "cells": [
    {
      "cell_type": "markdown",
      "source": [
        "# QR LinkedIn"
      ],
      "metadata": {
        "id": "DPfxDpPfIYQI"
      }
    },
    {
      "cell_type": "code",
      "execution_count": 1,
      "metadata": {
        "id": "ETIqI5gSE8oV",
        "colab": {
          "base_uri": "https://localhost:8080/"
        },
        "outputId": "7a3c7553-22df-415a-9315-e9dd6a8302f2"
      },
      "outputs": [
        {
          "output_type": "stream",
          "name": "stdout",
          "text": [
            "Collecting qrcode\n",
            "  Downloading qrcode-8.2-py3-none-any.whl.metadata (17 kB)\n",
            "Requirement already satisfied: pillow in /usr/local/lib/python3.11/dist-packages (11.2.1)\n",
            "Downloading qrcode-8.2-py3-none-any.whl (45 kB)\n",
            "\u001b[?25l   \u001b[90m━━━━━━━━━━━━━━━━━━━━━━━━━━━━━━━━━━━━━━━━\u001b[0m \u001b[32m0.0/46.0 kB\u001b[0m \u001b[31m?\u001b[0m eta \u001b[36m-:--:--\u001b[0m\r\u001b[2K   \u001b[90m━━━━━━━━━━━━━━━━━━━━━━━━━━━━━━━━━━━━━━━━\u001b[0m \u001b[32m46.0/46.0 kB\u001b[0m \u001b[31m2.9 MB/s\u001b[0m eta \u001b[36m0:00:00\u001b[0m\n",
            "\u001b[?25hInstalling collected packages: qrcode\n",
            "Successfully installed qrcode-8.2\n"
          ]
        }
      ],
      "source": [
        "!pip install qrcode pillow\n",
        "\n",
        "import qrcode\n",
        "from PIL import Image  # Esta librería sirve para visualizar/guardar el QR\n",
        "\n",
        "# Configuración del QR\n",
        "qr = qrcode.QRCode(\n",
        "    version=1,\n",
        "    error_correction=qrcode.constants.ERROR_CORRECT_H,\n",
        "    box_size=10,\n",
        "    border=4,\n",
        ")\n",
        "\n",
        "# Añadir el enlace\n",
        "url = \"https://www.linkedin.com/in/maria-del-carmen-falcon-aybar/\"\n",
        "qr.add_data(url)\n",
        "qr.make(fit=True)\n",
        "\n",
        "# Generar y guardar el QR\n",
        "img = qr.make_image(fill_color=\"black\", back_color=\"white\")\n",
        "img.save(\"QR_Nombre.png\")\n"
      ]
    }
  ]
}